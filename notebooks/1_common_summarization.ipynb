{
 "cells": [
  {
   "cell_type": "markdown",
   "metadata": {},
   "source": [
    "# Common summarization approaches"
   ]
  },
  {
   "cell_type": "markdown",
   "metadata": {},
   "source": [
    "In this notebook I'm going to introduce some common summarization approaches as well as third-party solutions that are capable of performing summarization. I will provide an example of usage as well as brief note on main ideas of the solution."
   ]
  },
  {
   "cell_type": "markdown",
   "metadata": {},
   "source": [
    "I've made a brief research on the topic using [paperswithcode](https://paperswithcode.com) web-resource. The impression of the state of the things is the following:\n",
    "+ *The code which accompanies papers is rarely adapted to be used as a tool, mostly it is a proof of a concept, a mean to calculate metrics. So there are not so many examples below.*\n",
    "+ The extractive summarization task - as it is - aims to eliminate less information-rich sentences from text, so lots of works generally do exactly it;\n",
    "+ To achive this goal the two main steps are performed:\n",
    "    1. Sentences are somehow measured by their importance;\n",
    "    2. Some selection algorithm is used (e.g. take top-n most \"important\")."
   ]
  },
  {
   "cell_type": "markdown",
   "metadata": {},
   "source": [
    "My further exploration have confirmed my point. The summarization task nowdays mostly consists of taking some BERT embeddings and creating an algorithm that chooses which of them to keep.\n",
    "And these algorithms may vary a lot."
   ]
  },
  {
   "cell_type": "markdown",
   "metadata": {},
   "source": [
    "The example text body is from [The New Yorker](https://www.newyorker.com/culture/personal-history/the-author-the-work-and-the-no-1-fan)"
   ]
  },
  {
   "cell_type": "code",
   "execution_count": 5,
   "metadata": {},
   "outputs": [],
   "source": [
    "body = \"Resonance is the literary magazine put out by the students of Falmouth Academy, the Massachusetts private school I attended for six years, starting in the seventh grade. During my time at F.A., I had at least one poem published in each issue of Resonance. In high school, I was also a member of the staff. But that wasn’t why I loved it. I loved it — and I swear I am not exaggerating here — because I thought the writing in its pages was more beautiful than anything I’d ever read. I was not a happy or popular adolescent, and the emotional stance I adopted toward most of my peers at F.A. might best be described as a defensive crouch. I was scared of my classmates, and I resented them; I could tell they didn’t like me, but I couldn’t figure out why. To the extent that I was able to lift myself out of my own sodden self-loathing to contemplate their inner worlds, I imagined their minds to be filled, like mine, with a whirlwind of criticism and judgment. But, once a year, at the end of the spring semester, I would open my copy of Resonance and be forced to face the unsettling possibility that my classmates were not the shallow bullies I imagined them to be but actual people, with souls.\""
   ]
  },
  {
   "cell_type": "markdown",
   "metadata": {},
   "source": [
    "### bert-extractive-summarizer\n",
    "[Link to repository](https://github.com/dmmiller612/bert-extractive-summarizer)\n",
    "\n",
    "The method used in the library utilizes  the  BERT  model  for  text \n",
    "embeddings  and  K-Means  clustering  to  identify  sentences \n",
    "closest to the centroid for summary selection.\n",
    "\n",
    "From https://arxiv.org/pdf/1906.04165.pdf:\n",
    ">   When creating summaries \\[...], the \\[...]  engine  leveraged  a  pipeline  which \n",
    "> tokenized the incoming paragraph text into clean sentences, \n",
    "> passed  the  tokenized  sentences  to  the  BERT  model  for \n",
    "> inference  to  output  embeddings,  and  then  clustered  the \n",
    "> embeddings  with  K-Means,  **selecting  the  embedded \n",
    "> sentences that were closest to the centroid** as the candidate \n",
    "> summary sentences.\n",
    "\n",
    "I briefly looked through the paper and did not find any benchmarks or metrics."
   ]
  },
  {
   "cell_type": "code",
   "execution_count": 8,
   "metadata": {},
   "outputs": [
    {
     "name": "stderr",
     "output_type": "stream",
     "text": [
      "Some weights of the model checkpoint at bert-large-uncased were not used when initializing BertModel: ['cls.predictions.transform.dense.weight', 'cls.predictions.transform.LayerNorm.bias', 'cls.predictions.bias', 'cls.seq_relationship.weight', 'cls.predictions.transform.dense.bias', 'cls.seq_relationship.bias', 'cls.predictions.transform.LayerNorm.weight', 'cls.predictions.decoder.weight']\n",
      "- This IS expected if you are initializing BertModel from the checkpoint of a model trained on another task or with another architecture (e.g. initializing a BertForSequenceClassification model from a BertForPreTraining model).\n",
      "- This IS NOT expected if you are initializing BertModel from the checkpoint of a model that you expect to be exactly identical (initializing a BertForSequenceClassification model from a BertForSequenceClassification model).\n"
     ]
    }
   ],
   "source": [
    "from summarizer import Summarizer\n",
    "\n",
    "model = Summarizer()\n"
   ]
  },
  {
   "cell_type": "code",
   "execution_count": 7,
   "metadata": {},
   "outputs": [
    {
     "name": "stdout",
     "output_type": "stream",
     "text": [
      "Resonance is the literary magazine put out by the students of Falmouth Academy, the Massachusetts private school I attended for six years, starting in the seventh grade. But, once a year, at the end of the spring semester, I would open my copy of Resonance and be forced to face the unsettling possibility that my classmates were not the shallow bullies I imagined them to be but actual people, with souls.\n"
     ]
    }
   ],
   "source": [
    "# defaults\n",
    "print(model(body))"
   ]
  },
  {
   "cell_type": "code",
   "execution_count": 9,
   "metadata": {},
   "outputs": [
    {
     "name": "stdout",
     "output_type": "stream",
     "text": [
      "Resonance is the literary magazine put out by the students of Falmouth Academy, the Massachusetts private school I attended for six years, starting in the seventh grade. But, once a year, at the end of the spring semester, I would open my copy of Resonance and be forced to face the unsettling possibility that my classmates were not the shallow bullies I imagined them to be but actual people, with souls.\n",
      "Resonance is the literary magazine put out by the students of Falmouth Academy, the Massachusetts private school I attended for six years, starting in the seventh grade. In high school, I was also a member of the staff. To the extent that I was able to lift myself out of my own sodden self-loathing to contemplate their inner worlds, I imagined their minds to be filled, like mine, with a whirlwind of criticism and judgment.\n"
     ]
    }
   ],
   "source": [
    "print(model(body, ratio=0.2))  # Specified with ratio\n",
    "print(model(body, num_sentences=3))  # Will return 3 sentences "
   ]
  },
  {
   "cell_type": "markdown",
   "metadata": {},
   "source": [
    "## AMR Summarizarion methods\n",
    "\n",
    "I recently have learned about this field of reasearch, and luckily it suggests some approaches to the summarization task:\n",
    "+ [Liu et al., 2015](http://www.cs.ucf.edu/~feiliu/papers/COLING2018_AMRSumm.pdf)\n",
    "+ [Takase et al., 2016](https://aclanthology.org/D16-1112.pdf)\n",
    "+ [Dohare et al., 2017](https://arxiv.org/abs/1706.01678)\n",
    "+ [Liao et al., 2018](https://aclanthology.org/C18-1101/)\n"
   ]
  },
  {
   "cell_type": "markdown",
   "metadata": {},
   "source": [
    "## Some tips for summarization alorithms\n",
    "+ *Skip the sentence that has trigram overlapping with the previously selected sentences. Surprisingly, this simple method of removing duplication brings a remarkable performance improvement on CNN/DailyMail.* - from [Extractive Summarization as Text Matching, Ming Zhong et al., 2020, page 1](https://arxiv.org/pdf/2004.08795v1.pdf)"
   ]
  },
  {
   "cell_type": "code",
   "execution_count": null,
   "metadata": {},
   "outputs": [],
   "source": []
  }
 ],
 "metadata": {
  "kernelspec": {
   "display_name": "Python 3.8.10 64-bit ('.venv': venv)",
   "language": "python",
   "name": "python381064bitvenvvenvc5206c77ee25436a9af873d7e9575275"
  },
  "language_info": {
   "codemirror_mode": {
    "name": "ipython",
    "version": 3
   },
   "file_extension": ".py",
   "mimetype": "text/x-python",
   "name": "python",
   "nbconvert_exporter": "python",
   "pygments_lexer": "ipython3",
   "version": "3.8.10"
  }
 },
 "nbformat": 4,
 "nbformat_minor": 4
}
