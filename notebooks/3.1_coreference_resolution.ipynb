{
 "cells": [
  {
   "cell_type": "code",
   "execution_count": null,
   "metadata": {},
   "outputs": [],
   "source": []
  },
  {
   "cell_type": "markdown",
   "metadata": {},
   "source": [
    "# Coreference resolution"
   ]
  },
  {
   "cell_type": "markdown",
   "metadata": {},
   "source": [
    "***Unfortunately, coreference resolution library does not work with spaCy 3.0, so I postpone this part for now***  \n",
    "https://github.com/huggingface/neuralcoref/issues/310"
   ]
  },
  {
   "cell_type": "markdown",
   "metadata": {},
   "source": [
    "As you have might already guessed, we will take only some parts of the original compound sentences. Those parts may include some proper nouns, which will be unresolvable without knowledge of previous mentions. That's why we need corerfrernce resolution: with it's help our text will sound a bit more redundant, yet we won't loose some important information.\n",
    "\n",
    "*The following section 2. used to be the first, but I have switched places because the coreference resolution solution used here is capable of processing and utilizing several sentences, so compound sentences won't be a problem for it*"
   ]
  },
  {
   "cell_type": "markdown",
   "metadata": {},
   "source": [
    "(from the [official docs](https://github.com/huggingface/neuralcoref#internals-and-model):)\n",
    "NeuralCoref is made of two sub-modules:\n",
    "+ a rule-based mentions-detection module which uses SpaCy's tagger, parser and NER annotations to identify a set of potential coreference mentions, and\n",
    "+ a feed-forward neural-network which compute a coreference score for each pair of potential mentions.\n"
   ]
  },
  {
   "cell_type": "code",
   "execution_count": 2,
   "metadata": {
    "scrolled": true
   },
   "outputs": [],
   "source": [
    "# import logging\n",
    "# logging.basicConfig(level=logging.INFO)\n",
    "# import neuralcoref"
   ]
  },
  {
   "cell_type": "code",
   "execution_count": null,
   "metadata": {},
   "outputs": [],
   "source": []
  }
 ],
 "metadata": {
  "kernelspec": {
   "display_name": "Python 3",
   "language": "python",
   "name": "python3"
  },
  "language_info": {
   "codemirror_mode": {
    "name": "ipython",
    "version": 3
   },
   "file_extension": ".py",
   "mimetype": "text/x-python",
   "name": "python",
   "nbconvert_exporter": "python",
   "pygments_lexer": "ipython3",
   "version": "3.8.2"
  }
 },
 "nbformat": 4,
 "nbformat_minor": 4
}
